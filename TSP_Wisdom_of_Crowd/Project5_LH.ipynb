{
 "cells": [
  {
   "cell_type": "markdown",
   "id": "8e403457",
   "metadata": {},
   "source": [
    "Imports"
   ]
  },
  {
   "cell_type": "code",
   "execution_count": 506,
   "id": "59405b81",
   "metadata": {},
   "outputs": [],
   "source": [
    "import numpy as np\n",
    "import copy\n",
    "import math\n",
    "import random\n",
    "import matplotlib.pyplot as plt\n",
    "from scipy.special import betaincinv\n",
    "import time"
   ]
  },
  {
   "cell_type": "markdown",
   "id": "64c48cd9",
   "metadata": {},
   "source": [
    "Classes"
   ]
  },
  {
   "cell_type": "code",
   "execution_count": 507,
   "id": "295d8013",
   "metadata": {},
   "outputs": [],
   "source": [
    "class node:\n",
    "    #nodes constructor\n",
    "    def __init__(self, id, x, y):\n",
    "        self.Id = id\n",
    "        self.x = x\n",
    "        self.y = y\n",
    "#End class nodes\n",
    "\n",
    "class individual:\n",
    "    def __init__(self, path, path_distance, fitness):\n",
    "        self.path = path\n",
    "        self.path_distance = path_distance\n",
    "        self.fitness = fitness #fitness compared to other individuals in population\n",
    "#End class individual\n",
    "\n",
    "class chromosome:\n",
    "    def __init__(self, chromosome, index):\n",
    "        self.selected_chromosome = chromosome\n",
    "        self.index = index #used for sorting, index of parents chromosome that got selected\n",
    "#End class chromosome"
   ]
  },
  {
   "cell_type": "markdown",
   "id": "f9284d45",
   "metadata": {},
   "source": [
    "Functions"
   ]
  },
  {
   "cell_type": "code",
   "execution_count": 527,
   "id": "967fca07",
   "metadata": {},
   "outputs": [],
   "source": [
    "#distance between two points\n",
    "def distance(x1, y1, x2, y2):\n",
    "    d = math.sqrt(((x2 - x1)**2) + ((y2 - y1)**2))\n",
    "    return d\n",
    "#End distance\n",
    "\n",
    "#Path Distance (total distance of a path)\n",
    "def calcPathDistance(path, node_arr):\n",
    "    path_distance = 0\n",
    "    closed_path = copy.deepcopy(path)\n",
    "    closed_path.append(path[0])\n",
    "    for f in range(len(path) - 1):\n",
    "        path_distance += distance(node_arr[closed_path[f]].x, node_arr[closed_path[f]].y, node_arr[closed_path[f+1]].x, node_arr[closed_path[f+1]].y)\n",
    "    return path_distance\n",
    "#End path distance\n",
    "\n",
    "#initialize individual (initial random path)\n",
    "def initializeIndividual(node_id):\n",
    "    new_path = copy.deepcopy(node_id)\n",
    "    np.random.shuffle(new_path)\n",
    "    return individual(new_path, 0, 0)\n",
    "#End initialize individual\n",
    "\n",
    "#Path fitness (fitness compared to other individuals in population)\n",
    "def pathFitness(path_distance, sum_fitness):\n",
    "    fitness = path_distance / sum_fitness\n",
    "    return fitness\n",
    "#End path fitness\n",
    "\n",
    "#Tournament selection\n",
    "def tournamentSelection(individuals, tournament_size):\n",
    "    selected = []\n",
    "    while len(selected) < 2:\n",
    "        best_individual = []\n",
    "        tournament = random.sample(individuals, tournament_size)\n",
    "        best_individual.append(min(tournament, key=lambda r: r.fitness))\n",
    "        selected.append(best_individual[0].path)\n",
    "    return selected\n",
    "#End Tournament Selection\n",
    "\n",
    "#cyclic crossover\n",
    "def cycleCrossover(parent1, parent2):\n",
    "    length = len(parent1)\n",
    "    child = [-1] * length\n",
    "    cycle = []\n",
    "\n",
    "    while -1 in child:\n",
    "        index = child.index(-1)\n",
    "        current_parent = parent1 if index % 2 == 0 else parent2\n",
    "\n",
    "        while index not in cycle:\n",
    "            cycle.append(index)\n",
    "            index = parent1.index(parent2[index])\n",
    "\n",
    "        for i in cycle:\n",
    "            child[i] = current_parent[i]\n",
    "\n",
    "        cycle = []\n",
    "\n",
    "    return child\n",
    "#End cycle crossover\n",
    "\n",
    "#Mutation Swap two random cities\n",
    "def mutation(path):\n",
    "    index1, index2 = random.sample(range(len(path)), 2)\n",
    "    path[index1], path[index2] = path[index2], path[index1]\n",
    "#End mutation"
   ]
  },
  {
   "cell_type": "markdown",
   "id": "43b2239b",
   "metadata": {},
   "source": [
    "Main function"
   ]
  },
  {
   "cell_type": "code",
   "execution_count": 544,
   "id": "3391e77c",
   "metadata": {
    "scrolled": true
   },
   "outputs": [
    {
     "name": "stdout",
     "output_type": "stream",
     "text": [
      "complete\n"
     ]
    }
   ],
   "source": [
    "#open file\n",
    "try:\n",
    "    file = open('Random11.tsp', 'r')\n",
    "except FileNotFoundError:\n",
    "    print('The file was not found!')\n",
    "\n",
    "read_line = np.array(file.readlines())[7:]\n",
    "node_arr = []\n",
    "node_id = []\n",
    "for line in range(len(read_line)):\n",
    "    x = read_line[line].split()\n",
    "    #node starts from 0 instead of 1\n",
    "    node_arr.append(node(int(x[0]) - 1, float(x[1]), float(x[2])))\n",
    "    node_id.append(line)\n",
    "\n",
    "#Constant mutation, crossover, tournament size\n",
    "CROSSOVER_PERCENTAGE = 50\n",
    "MUTATION_PERCENTAGE = 100 - CROSSOVER_PERCENTAGE\n",
    "TOURNAMENT_SIZE = 5\n",
    "populationSize = 100 # fixed population size for the program\n",
    "iter_generation = 1000 # number of generation to produce\n",
    "individuals = [] # individuals of the population\n",
    "sum_fitness = 0 # Total fitness of all individuals combined\n",
    "generation = 0 #current generation\n",
    "children = [] #current generation\n",
    "best_distance_per_gen = [] #best path distance for every generation\n",
    "best_path_per_gen = [] #best path for every generation\n",
    "    \n",
    "#Initializing all features of each path/individual\n",
    "#Random Paths (Starting point/Initialize individuals)\n",
    "for i in range(len(node_id)):\n",
    "    individuals.append(initializeIndividual(node_id))\n",
    "#Path distance\n",
    "for i in range(len(individuals)):\n",
    "    individuals[i].path_distance = calcPathDistance(individuals[i].path, node_arr)\n",
    "    sum_fitness += individuals[i].path_distance\n",
    "#Path fitness\n",
    "for i in range(len(individuals)):\n",
    "    individuals[i].fitness = pathFitness(individuals[i].path_distance, sum_fitness)\n",
    "best_distance_per_gen.append(min(individuals, key=lambda r: r.path_distance).path_distance) #min path distance from instances of class individuals for 0th generation\n",
    "#End Initializing all features of each path/individual\n",
    "\n",
    "while generation < iter_generation: #number of generation to produce\n",
    "    sum_fitness = 0\n",
    "    children = []\n",
    "    best_path = []\n",
    "    best_distance = None\n",
    "    while len(children) < populationSize: #number of children to produce for every generation\n",
    "        #tournament selection\n",
    "        parents = tournamentSelection(individuals, TOURNAMENT_SIZE)\n",
    "        parent1 = parents[0]\n",
    "        parent2 = parents[1]\n",
    "        \n",
    "        #cyclic crossover\n",
    "        child = cycleCrossover(parent1, parent2)\n",
    "        \n",
    "        #mutation\n",
    "        if random.uniform(0, len(child)) < MUTATION_PERCENTAGE:\n",
    "                mutation(child)\n",
    "        \n",
    "        #childs path distance\n",
    "        path_distance = calcPathDistance(child, node_arr)\n",
    "        \n",
    "        #find shortest path\n",
    "        if best_distance == None:\n",
    "            best_distance = path_distance\n",
    "            best_path = child\n",
    "        elif path_distance < best_distance:\n",
    "            best_distance = path_distance\n",
    "            best_path = child\n",
    "        sum_fitness += path_distance \n",
    "        children.append(individual(child, calcPathDistance(child, node_arr), 0))\n",
    "    generation += 1\n",
    "        \n",
    "    for i in range(len(children)): #calculate childrens fitness\n",
    "        children[i].fitness = pathFitness(children[i].path_distance, sum_fitness)\n",
    "    \n",
    "    individuals = copy.deepcopy(children) #copy new childrens and let go of previous generation\n",
    "    best_distance_per_gen.append(min(individuals, key=lambda r: r.path_distance).path_distance) #min path distance from instances of class individuals for 0th generation \n",
    "    best_path_per_gen.append(best_path)\n",
    "print(\"complete\")"
   ]
  },
  {
   "cell_type": "markdown",
   "id": "1696bab2",
   "metadata": {},
   "source": [
    "perform wisdom of crowd, go from current city to another city that most experts picked"
   ]
  },
  {
   "cell_type": "code",
   "execution_count": 529,
   "id": "fcc4d884",
   "metadata": {},
   "outputs": [
    {
     "name": "stdout",
     "output_type": "stream",
     "text": [
      "complete\n"
     ]
    }
   ],
   "source": [
    "#Number of cities\n",
    "frequency_matrix = [[0 for j in range(len(node_arr))] for i in range(len(node_arr))] #[row][column] from city/row to city/column\n",
    "for row in range(len(best_path_per_gen)):\n",
    "    for column in range(len(best_path_per_gen[0]) - 1):\n",
    "        x = best_path_per_gen[row][column]\n",
    "        y = best_path_per_gen[row][column + 1]\n",
    "        frequency_matrix[x][y] = frequency_matrix[x][y] + 1\n",
    "print(\"complete\")"
   ]
  },
  {
   "cell_type": "code",
   "execution_count": 530,
   "id": "373dc2b1",
   "metadata": {
    "scrolled": false
   },
   "outputs": [
    {
     "data": {
      "text/plain": [
       "[[0, 0, 204, 1, 0, 164, 471, 13, 0, 135, 12],\n",
       " [0, 0, 0, 55, 692, 1, 0, 2, 231, 1, 3],\n",
       " [120, 1, 0, 3, 0, 15, 498, 26, 0, 214, 123],\n",
       " [0, 754, 0, 0, 69, 35, 0, 22, 7, 6, 102],\n",
       " [0, 9, 0, 4, 0, 0, 0, 0, 758, 0, 0],\n",
       " [50, 5, 1, 473, 2, 0, 0, 283, 0, 94, 90],\n",
       " [308, 1, 396, 1, 0, 16, 0, 17, 0, 205, 56],\n",
       " [9, 9, 4, 124, 0, 400, 6, 0, 0, 192, 255],\n",
       " [0, 13, 0, 1, 236, 0, 0, 0, 0, 0, 2],\n",
       " [11, 11, 9, 37, 0, 184, 12, 385, 1, 0, 350],\n",
       " [0, 196, 6, 296, 1, 92, 5, 251, 1, 152, 0]]"
      ]
     },
     "execution_count": 530,
     "metadata": {},
     "output_type": "execute_result"
    }
   ],
   "source": [
    "frequency_matrix"
   ]
  },
  {
   "cell_type": "markdown",
   "id": "4788a197",
   "metadata": {},
   "source": [
    "Find wisdom of crowd path (connect cities based on sequence of highest values until all nodes are connected)"
   ]
  },
  {
   "cell_type": "code",
   "execution_count": 542,
   "id": "6f87af35",
   "metadata": {},
   "outputs": [
    {
     "data": {
      "text/plain": [
       "(298.72482749890384, [4, 8, 1, 3, 10, 7, 5, 9, 6, 2, 0])"
      ]
     },
     "execution_count": 542,
     "metadata": {},
     "output_type": "execute_result"
    }
   ],
   "source": [
    "#class with frequecy count, row(city), column{city)\n",
    "class frequencyCount:\n",
    "    def __init__(self, count, from_city, to_city):\n",
    "        self.count = count\n",
    "        self.from_city = from_city\n",
    "        self.to_city = to_city\n",
    "        \n",
    "#flatten frequency_matrix to node array of class frequencyCount\n",
    "frequency_count_arr = []\n",
    "for i in range(len(frequency_matrix)):\n",
    "    for j in range(len(frequency_matrix)):\n",
    "        count = frequency_matrix[i][j]\n",
    "        frequency_count_arr.append(frequencyCount(count, i, j))\n",
    "        \n",
    "#sort frequency_count_arr in decending order based on count\n",
    "frequency_count_arr = sorted(frequency_count_arr, key=lambda x: x.count, reverse=True)\n",
    "wisdom_path = []\n",
    "current_city = -1\n",
    "while len(wisdom_path) < len(node_arr):\n",
    "    for i in frequency_count_arr:\n",
    "        if len(wisdom_path) == 0:\n",
    "            wisdom_path.append(i.from_city)\n",
    "            wisdom_path.append(i.to_city)\n",
    "            current_city = i.to_city\n",
    "            break\n",
    "        elif i.from_city == current_city and i.to_city not in wisdom_path:\n",
    "            wisdom_path.append(i.to_city)\n",
    "            current_city = i.to_city\n",
    "            break\n",
    "\n",
    "calcPathDistance(wisdom_path, node_arr), wisdom_path"
   ]
  },
  {
   "cell_type": "code",
   "execution_count": 543,
   "id": "7b79ad7e",
   "metadata": {
    "scrolled": true
   },
   "outputs": [
    {
     "data": {
      "text/plain": [
       "(282.0823533159497, 300.3419594711467)"
      ]
     },
     "execution_count": 543,
     "metadata": {},
     "output_type": "execute_result"
    }
   ],
   "source": [
    "min(best_distance_per_gen), best_distance_per_gen[-1]"
   ]
  },
  {
   "cell_type": "markdown",
   "id": "607e8b92",
   "metadata": {},
   "source": [
    "On Average how well did the Wisdom of Crowds approach perform compared to the standard  GA?"
   ]
  },
  {
   "cell_type": "code",
   "execution_count": 603,
   "id": "645789cb",
   "metadata": {
    "scrolled": true
   },
   "outputs": [
    {
     "name": "stdout",
     "output_type": "stream",
     "text": [
      "complete\n"
     ]
    }
   ],
   "source": [
    "import numpy as np\n",
    "import copy\n",
    "import math\n",
    "import random\n",
    "import matplotlib.pyplot as plt\n",
    "\n",
    "class node:\n",
    "    #nodes constructor\n",
    "    def __init__(self, id, x, y):\n",
    "        self.Id = id\n",
    "        self.x = x\n",
    "        self.y = y\n",
    "#End class nodes\n",
    "\n",
    "class comparison:\n",
    "    def __init__(self, best_of_all_gen, best_of_final_gen, woc):\n",
    "        self.woc = woc\n",
    "        self.best_of_all_gen = best_of_all_gen\n",
    "        self.best_of_final_gen = best_of_final_gen\n",
    "\n",
    "class individual:\n",
    "    def __init__(self, path, path_distance, fitness):\n",
    "        self.path = path\n",
    "        self.path_distance = path_distance\n",
    "        self.fitness = fitness #fitness compared to other individuals in population\n",
    "#End class individual\n",
    "\n",
    "class chromosome:\n",
    "    def __init__(self, chromosome, index):\n",
    "        self.selected_chromosome = chromosome\n",
    "        self.index = index #used for sorting, index of parents chromosome that got selected\n",
    "#End class chromosome\n",
    "\n",
    "#distance between two points\n",
    "def distance(x1, y1, x2, y2):\n",
    "    d = math.sqrt(((x2 - x1)**2) + ((y2 - y1)**2))\n",
    "    return d\n",
    "#End distance\n",
    "\n",
    "#Path Distance (total distance of a path)\n",
    "def calcPathDistance(path, node_arr):\n",
    "    path_distance = 0\n",
    "    closed_path = copy.deepcopy(path)\n",
    "    closed_path.append(path[0])\n",
    "    for f in range(len(path) - 1):\n",
    "        path_distance += distance(node_arr[closed_path[f]].x, node_arr[closed_path[f]].y, node_arr[closed_path[f+1]].x, node_arr[closed_path[f+1]].y)\n",
    "    return path_distance\n",
    "#End path distance\n",
    "\n",
    "#initialize individual (initial random path)\n",
    "def initializeIndividual(node_id):\n",
    "    new_path = copy.deepcopy(node_id)\n",
    "    np.random.shuffle(new_path)\n",
    "    return individual(new_path, 0, 0)\n",
    "#End initialize individual\n",
    "\n",
    "#Path fitness (fitness compared to other individuals in population)\n",
    "def pathFitness(path_distance, sum_fitness):\n",
    "    fitness = path_distance / sum_fitness\n",
    "    return fitness\n",
    "#End path fitness\n",
    "\n",
    "#Tournament selection\n",
    "def tournamentSelection(individuals, tournament_size):\n",
    "    selected = []\n",
    "    while len(selected) < 2:\n",
    "        best_individual = []\n",
    "        tournament = random.sample(individuals, tournament_size)\n",
    "        best_individual.append(min(tournament, key=lambda r: r.fitness))\n",
    "        selected.append(best_individual[0].path)\n",
    "    return selected\n",
    "#End Tournament Selection\n",
    "\n",
    "#cyclic crossover\n",
    "def cycleCrossover(parent1, parent2):\n",
    "    length = len(parent1)\n",
    "    child = [-1] * length\n",
    "    cycle = []\n",
    "\n",
    "    while -1 in child:\n",
    "        index = child.index(-1)\n",
    "        current_parent = parent1 if index % 2 == 0 else parent2\n",
    "\n",
    "        while index not in cycle:\n",
    "            cycle.append(index)\n",
    "            index = parent1.index(parent2[index])\n",
    "\n",
    "        for i in cycle:\n",
    "            child[i] = current_parent[i]\n",
    "\n",
    "        cycle = []\n",
    "\n",
    "    return child\n",
    "#End cycle crossover\n",
    "\n",
    "#Mutation Swap two random cities\n",
    "def mutation(path):\n",
    "    index1, index2 = random.sample(range(len(path)), 2)\n",
    "    path[index1], path[index2] = path[index2], path[index1]\n",
    "#End mutation\n",
    "\n",
    "#open file\n",
    "try:\n",
    "    file = open('Random222.tsp', 'r')\n",
    "except FileNotFoundError:\n",
    "    print('The file was not found!')\n",
    "\n",
    "read_line = np.array(file.readlines())[7:]\n",
    "node_arr = []\n",
    "node_id = []\n",
    "for line in range(len(read_line)):\n",
    "    x = read_line[line].split()\n",
    "    #node starts from 0 instead of 1\n",
    "    node_arr.append(node(int(x[0]) - 1, float(x[1]), float(x[2])))\n",
    "    node_id.append(line)\n",
    "\n",
    "apple = 0\n",
    "finalDistance = []\n",
    "while apple < 10:\n",
    "    #Constant mutation, crossover, tournament size\n",
    "    CROSSOVER_PERCENTAGE = 50\n",
    "    MUTATION_PERCENTAGE = 100 - CROSSOVER_PERCENTAGE\n",
    "    TOURNAMENT_SIZE = 5\n",
    "    populationSize = 100 # fixed population size for the program\n",
    "    iter_generation = 500 # number of generation to produce\n",
    "    individuals = [] # individuals of the population\n",
    "    sum_fitness = 0 # Total fitness of all individuals combined\n",
    "    generation = 0 #current generation\n",
    "    children = [] #current generation\n",
    "    best_distance_per_gen = [] #best path distance for every generation\n",
    "    best_path_per_gen = [] #best path for every generation\n",
    "\n",
    "    #Initializing all features of each path/individual\n",
    "    #Random Paths (Starting point/Initialize individuals)\n",
    "    for i in range(len(node_id)):\n",
    "        individuals.append(initializeIndividual(node_id))\n",
    "    #Path distance\n",
    "    for i in range(len(individuals)):\n",
    "        individuals[i].path_distance = calcPathDistance(individuals[i].path, node_arr)\n",
    "        sum_fitness += individuals[i].path_distance\n",
    "    #Path fitness\n",
    "    for i in range(len(individuals)):\n",
    "        individuals[i].fitness = pathFitness(individuals[i].path_distance, sum_fitness)\n",
    "    best_distance_per_gen.append(min(individuals, key=lambda r: r.path_distance).path_distance) #min path distance from instances of class individuals for 0th generation\n",
    "    #End Initializing all features of each path/individual\n",
    "\n",
    "    while generation < iter_generation: #number of generation to produce\n",
    "        sum_fitness = 0\n",
    "        children = []\n",
    "        best_path = []\n",
    "        best_distance = None\n",
    "        while len(children) < populationSize: #number of children to produce for every generation\n",
    "            #tournament selection\n",
    "            parents = tournamentSelection(individuals, TOURNAMENT_SIZE)\n",
    "            parent1 = parents[0]\n",
    "            parent2 = parents[1]\n",
    "\n",
    "            #cyclic crossover\n",
    "            child = cycleCrossover(parent1, parent2)\n",
    "\n",
    "            #mutation\n",
    "            if random.uniform(0, len(child)) < MUTATION_PERCENTAGE:\n",
    "                    mutation(child)\n",
    "\n",
    "            #childs path distance\n",
    "            path_distance = calcPathDistance(child, node_arr)\n",
    "\n",
    "            #find shortest path\n",
    "            if best_distance == None:\n",
    "                best_distance = path_distance\n",
    "                best_path = child\n",
    "            elif path_distance < best_distance:\n",
    "                best_distance = path_distance\n",
    "                best_path = child\n",
    "            sum_fitness += path_distance \n",
    "            children.append(individual(child, calcPathDistance(child, node_arr), 0))\n",
    "        generation += 1\n",
    "\n",
    "        for i in range(len(children)): #calculate childrens fitness\n",
    "            children[i].fitness = pathFitness(children[i].path_distance, sum_fitness)\n",
    "\n",
    "        individuals = copy.deepcopy(children) #copy new childrens and let go of previous generation\n",
    "        best_distance_per_gen.append(min(individuals, key=lambda r: r.path_distance).path_distance) #min path distance from instances of class individuals for 0th generation \n",
    "        best_path_per_gen.append(best_path)\n",
    "\n",
    "    #Number of cities\n",
    "    frequency_matrix = [[0 for j in range(len(node_arr))] for i in range(len(node_arr))] #[row][column] from city/row to city/column\n",
    "    for row in range(len(best_path_per_gen)):\n",
    "        for column in range(len(best_path_per_gen[0]) - 1):\n",
    "            x = best_path_per_gen[row][column]\n",
    "            y = best_path_per_gen[row][column + 1]\n",
    "            frequency_matrix[x][y] = frequency_matrix[x][y] + 1\n",
    "\n",
    "    #class with frequecy count, row(city), column{city)\n",
    "    class frequencyCount:\n",
    "        def __init__(self, count, from_city, to_city):\n",
    "            self.count = count\n",
    "            self.from_city = from_city\n",
    "            self.to_city = to_city\n",
    "\n",
    "    #flatten frequency_matrix to node array of class frequencyCount\n",
    "    frequency_count_arr = []\n",
    "    for i in range(len(frequency_matrix)):\n",
    "        for j in range(len(frequency_matrix)):\n",
    "            count = frequency_matrix[i][j]\n",
    "            frequency_count_arr.append(frequencyCount(count, i, j))\n",
    "\n",
    "    #sort frequency_count_arr in decending order based on count\n",
    "    frequency_count_arr = sorted(frequency_count_arr, key=lambda x: x.count, reverse=True)\n",
    "    wisdom_path = []\n",
    "    current_city = -1\n",
    "    while len(wisdom_path) < len(node_arr):\n",
    "        for i in frequency_count_arr:\n",
    "            if len(wisdom_path) == 0:\n",
    "                wisdom_path.append(i.from_city)\n",
    "                wisdom_path.append(i.to_city)\n",
    "                current_city = i.to_city\n",
    "                break\n",
    "            elif i.from_city == current_city and i.to_city not in wisdom_path:\n",
    "                wisdom_path.append(i.to_city)\n",
    "                current_city = i.to_city\n",
    "                break\n",
    "    finalDistance.append(comparison(min(best_distance_per_gen), best_distance_per_gen[-1], calcPathDistance(wisdom_path, node_arr)))    \n",
    "    apple += 1\n",
    "print('complete')"
   ]
  },
  {
   "cell_type": "code",
   "execution_count": 583,
   "id": "a1e3f7eb",
   "metadata": {},
   "outputs": [],
   "source": [
    "avg_percent = [] #do not run this (clears average percent values)"
   ]
  },
  {
   "cell_type": "code",
   "execution_count": 604,
   "id": "9408f10c",
   "metadata": {
    "scrolled": true
   },
   "outputs": [
    {
     "name": "stdout",
     "output_type": "stream",
     "text": [
      "GA_all gen     GA & WOC     GA_Final\n",
      "4313.99  \t5483.13 \t     4313.99\n",
      "4261.44  \t5439.19 \t     4261.44\n",
      "4242.27  \t5640.80 \t     4242.27\n",
      "4091.81  \t5690.95 \t     4091.81\n",
      "4288.03  \t5638.85 \t     4288.03\n",
      "4144.46  \t5790.63 \t     4144.46\n",
      "3967.25  \t5583.34 \t     3967.25\n",
      "3977.82  \t5010.53 \t     3977.82\n",
      "4138.00  \t5673.12 \t     4138.00\n",
      "4198.42  \t5596.90 \t     4198.42\n",
      "count WOC was better than GA_Final: 0\n",
      "count WOC was better than best_GA_all_gen: 0\n"
     ]
    }
   ],
   "source": [
    "print('GA_all gen', '    GA & WOC', '    GA_Final')\n",
    "count = 0\n",
    "count1 = 0\n",
    "for i in finalDistance:\n",
    "    if i.best_of_final_gen > i.woc:\n",
    "        count += 1\n",
    "    if i.best_of_all_gen > i.woc:\n",
    "        count1 += 1\n",
    "percent_difference = []\n",
    "for i in finalDistance:\n",
    "    print('%.2f'% i.best_of_all_gen, ' \\t%.2f'%i.woc, '\\t     %.2f'%i.best_of_final_gen)\n",
    "    percent_difference.append(i.woc/i.best_of_all_gen)\n",
    "avg_percent.append(sum(percent_difference)/len(percent_difference))\n",
    "percent_difference = []\n",
    "print('count WOC was better than GA_Final:', count)\n",
    "print('count WOC was better than best_GA_all_gen:', count1)"
   ]
  },
  {
   "cell_type": "code",
   "execution_count": 605,
   "id": "e3b0db9c",
   "metadata": {},
   "outputs": [
    {
     "data": {
      "text/plain": [
       "[1.1851940248082742,\n",
       " 1.028605411710021,\n",
       " 1.1237997513941345,\n",
       " 1.2417572698657888,\n",
       " 1.2786728402125065,\n",
       " 1.3351138953583725]"
      ]
     },
     "execution_count": 605,
     "metadata": {},
     "output_type": "execute_result"
    }
   ],
   "source": [
    "avg_percent"
   ]
  },
  {
   "cell_type": "code",
   "execution_count": 606,
   "id": "be127936",
   "metadata": {
    "scrolled": false
   },
   "outputs": [
    {
     "data": {
      "image/png": "[encoded data removed]",
      "text/plain": [
       "<Figure size 640x480 with 1 Axes>"
      ]
     },
     "metadata": {},
     "output_type": "display_data"
    }
   ],
   "source": [
    "x_axis = []\n",
    "y_axis1 = []\n",
    "y_axis2 = []\n",
    "y_axis3 = []\n",
    "\n",
    "for i in range(len(finalDistance)):\n",
    "    x_axis.append(i+1)\n",
    "    \n",
    "for i in finalDistance:\n",
    "    y_axis1.append(i.best_of_all_gen)\n",
    "    y_axis2.append(i.best_of_final_gen)\n",
    "    y_axis3.append(i.woc)\n",
    "plt.plot(x_axis, y_axis1, 'o', color='green', label='best of all gen')\n",
    "plt.plot(x_axis, y_axis2, '*', color='blue', label='best of final gen')\n",
    "plt.plot(x_axis, y_axis3, 's', color='red', label='wisdom of crowd')\n",
    "plt.legend()\n",
    "plt.xlabel('trial')\n",
    "plt.ylabel('path_distance')\n",
    "plt.show()"
   ]
  },
  {
   "cell_type": "code",
   "execution_count": 611,
   "id": "70b469e2",
   "metadata": {},
   "outputs": [
    {
     "data": {
      "image/png": "[encoded data removed]",
      "text/plain": [
       "<Figure size 640x480 with 1 Axes>"
      ]
     },
     "metadata": {},
     "output_type": "display_data"
    }
   ],
   "source": [
    "x_axis = [11, 22, 44, 77, 97, 222]\n",
    "plt.plot(x_axis, avg_percent, marker='o')\n",
    "plt.xlabel('# of cities')\n",
    "plt.ylabel('WOC % greater than GA')\n",
    "plt.show()"
   ]
  },
  {
   "cell_type": "code",
   "execution_count": null,
   "id": "f9256ddd",
   "metadata": {},
   "outputs": [],
   "source": []
  }
 ],
 "metadata": {
  "kernelspec": {
   "display_name": "Python 3 (ipykernel)",
   "language": "python",
   "name": "python3"
  },
  "language_info": {
   "codemirror_mode": {
    "name": "ipython",
    "version": 3
   },
   "file_extension": ".py",
   "mimetype": "text/x-python",
   "name": "python",
   "nbconvert_exporter": "python",
   "pygments_lexer": "ipython3",
   "version": "3.11.5"
  }
 },
 "nbformat": 4,
 "nbformat_minor": 5
}
